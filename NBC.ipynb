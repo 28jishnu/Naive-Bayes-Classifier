{
 "cells": [
  {
   "cell_type": "markdown",
   "metadata": {},
   "source": [
    "NAIVE BAYES CLASSIFIER\n"
   ]
  },
  {
   "cell_type": "markdown",
   "metadata": {},
   "source": [
    "Loading necessary libraries"
   ]
  },
  {
   "cell_type": "code",
   "execution_count": 25,
   "metadata": {},
   "outputs": [],
   "source": [
    "import matplotlib.pyplot as plt\n",
    "import pandas as pd\n",
    "from sklearn.model_selection import train_test_split\n",
    "from sklearn import metrics\n",
    "from sklearn import tree\n",
    "from sklearn.naive_bayes import GaussianNB\n",
    "from sklearn.metrics import confusion_matrix\n",
    "from sklearn.naive_bayes import MultinomialNB\n",
    "from sklearn.metrics import classification_report\n",
    "from sklearn.metrics import f1_score\n",
    "from sklearn.metrics import recall_score\n",
    "from sklearn.metrics import precision_score"
   ]
  },
  {
   "cell_type": "markdown",
   "metadata": {},
   "source": [
    "Importing data"
   ]
  },
  {
   "cell_type": "code",
   "execution_count": 26,
   "metadata": {},
   "outputs": [
    {
     "name": "stdout",
     "output_type": "stream",
     "text": [
      "        date                time username  wrist  activity  acceleration_x  \\\n",
      "0  2017-6-30  13:51:15:847724020   viktor      0         0          0.2650   \n",
      "1  2017-6-30  13:51:16:246945023   viktor      0         0          0.6722   \n",
      "2  2017-6-30  13:51:16:446233987   viktor      0         0          0.4399   \n",
      "3  2017-6-30  13:51:16:646117985   viktor      0         0          0.3031   \n",
      "4  2017-6-30  13:51:16:846738994   viktor      0         0          0.4814   \n",
      "5  2017-6-30   13:51:17:46806991   viktor      0         0          0.4044   \n",
      "\n",
      "   acceleration_y  acceleration_z  gyro_x  gyro_y  gyro_z  \n",
      "0         -0.7814         -0.0076 -0.0590  0.0325 -2.9296  \n",
      "1         -1.1233         -0.2344 -0.1757  0.0208  0.1269  \n",
      "2         -1.4817          0.0722 -0.9105  0.1063 -2.4367  \n",
      "3         -0.8125          0.0888  0.1199 -0.4099 -2.9336  \n",
      "4         -0.9312          0.0359  0.0527  0.4379  2.4922  \n",
      "5         -0.8056         -0.0956  0.6925 -0.2179  2.5750  \n"
     ]
    }
   ],
   "source": [
    "dataset = pd.read_csv('D:/datasets/run_or_walk.csv')\n",
    "print (dataset.head(6))"
   ]
  },
  {
   "cell_type": "markdown",
   "metadata": {},
   "source": [
    "Data Wrangling"
   ]
  },
  {
   "cell_type": "code",
   "execution_count": 27,
   "metadata": {},
   "outputs": [
    {
     "name": "stderr",
     "output_type": "stream",
     "text": [
      "C:\\Users\\28jis\\Anaconda3\\lib\\site-packages\\pandas\\core\\frame.py:3940: SettingWithCopyWarning: \n",
      "A value is trying to be set on a copy of a slice from a DataFrame\n",
      "\n",
      "See the caveats in the documentation: http://pandas.pydata.org/pandas-docs/stable/indexing.html#indexing-view-versus-copy\n",
      "  errors=errors)\n"
     ]
    },
    {
     "name": "stdout",
     "output_type": "stream",
     "text": [
      "['acceleration_x', 'acceleration_y', 'acceleration_z', 'gyro_x', 'gyro_y', 'gyro_z']\n"
     ]
    }
   ],
   "source": [
    "pd_columns=dataset[:]\n",
    "pd_columns.drop(['date'], axis=1, inplace=True)\n",
    "pd_columns.drop(['time'], axis=1, inplace=True)\n",
    "pd_columns.drop(['username'], axis=1, inplace=True)\n",
    "pd_columns.drop(['wrist'], axis=1, inplace=True)\n",
    "pd_columns.drop(['activity'], axis=1, inplace=True)\n",
    "\n",
    "prediction=pd_columns.columns\n",
    "print(list(prediction))"
   ]
  },
  {
   "cell_type": "markdown",
   "metadata": {},
   "source": [
    "Train-Test Split"
   ]
  },
  {
   "cell_type": "code",
   "execution_count": 28,
   "metadata": {},
   "outputs": [
    {
     "name": "stdout",
     "output_type": "stream",
     "text": [
      "(62011, 11)\n",
      "(26577, 11)\n"
     ]
    }
   ],
   "source": [
    "trainset, testset=train_test_split(dataset,test_size=0.3)\n",
    "print(trainset.shape)\n",
    "print(testset.shape)"
   ]
  },
  {
   "cell_type": "code",
   "execution_count": 29,
   "metadata": {},
   "outputs": [
    {
     "name": "stdout",
     "output_type": "stream",
     "text": [
      "['date', 'time', 'username', 'wrist', 'activity', 'acceleration_x', 'acceleration_y', 'acceleration_z', 'gyro_x', 'gyro_y', 'gyro_z']\n"
     ]
    }
   ],
   "source": [
    "train_X=trainset[prediction]\n",
    "train_y=trainset['activity']\n",
    "print(list(trainset.columns))\n",
    "\n",
    "test_X=testset[prediction]\n",
    "test_y=testset['activity']"
   ]
  },
  {
   "cell_type": "code",
   "execution_count": 30,
   "metadata": {},
   "outputs": [
    {
     "name": "stdout",
     "output_type": "stream",
     "text": [
      "[[13128   124]\n",
      " [ 1013 12312]]\n",
      "0.957218647702901\n",
      "Number of mislabled points out of a total 88588 point :26577\n",
      "0.957218647702901\n"
     ]
    }
   ],
   "source": [
    "gnb=GaussianNB()\n",
    "y_pd_gnb= gnb.fit(train_X,train_y)\n",
    "target_pd=y_pd_gnb.predict(test_X)\n",
    "\n",
    "cnf_matrix_gnb= confusion_matrix(test_y,target_pd)\n",
    "print(cnf_matrix_gnb)\n",
    "print(metrics.accuracy_score(target_pd,test_y))\n",
    "print(\"Number of mislabled points out of a total %d point :%d\" \n",
    "     %(data.shape[0],(test_y !=y_pd_gnb).sum()))\n",
    "print(metrics.accuracy_score(test_y,target_pd))"
   ]
  },
  {
   "cell_type": "code",
   "execution_count": 31,
   "metadata": {},
   "outputs": [
    {
     "name": "stdout",
     "output_type": "stream",
     "text": [
      "              precision    recall  f1-score   support\n",
      "\n",
      "           0       0.93      0.99      0.96     13252\n",
      "           1       0.99      0.92      0.96     13325\n",
      "\n",
      "   micro avg       0.96      0.96      0.96     26577\n",
      "   macro avg       0.96      0.96      0.96     26577\n",
      "weighted avg       0.96      0.96      0.96     26577\n",
      "\n"
     ]
    }
   ],
   "source": [
    "\n",
    "print(classification_report(test_y,target_pd))"
   ]
  },
  {
   "cell_type": "code",
   "execution_count": 32,
   "metadata": {},
   "outputs": [
    {
     "name": "stdout",
     "output_type": "stream",
     "text": [
      "F1 Score: 0.9558635146151159\n"
     ]
    }
   ],
   "source": [
    "\n",
    "\n",
    "print(\"F1 Score: {}\".format(f1_score(test_y,target_pd)))"
   ]
  },
  {
   "cell_type": "code",
   "execution_count": 33,
   "metadata": {},
   "outputs": [
    {
     "name": "stdout",
     "output_type": "stream",
     "text": [
      "Recall score: 0.9239774859287054\n"
     ]
    }
   ],
   "source": [
    "\n",
    "\n",
    "print(\"Recall score: {}\".format(recall_score(test_y,target_pd)))"
   ]
  },
  {
   "cell_type": "code",
   "execution_count": 34,
   "metadata": {},
   "outputs": [
    {
     "name": "stdout",
     "output_type": "stream",
     "text": [
      "Precision score: 0.9900289482148601\n"
     ]
    }
   ],
   "source": [
    "\n",
    "\n",
    "print(\"Precision score: {}\".format(precision_score(test_y,target_pd)))"
   ]
  },
  {
   "cell_type": "code",
   "execution_count": 35,
   "metadata": {},
   "outputs": [
    {
     "name": "stderr",
     "output_type": "stream",
     "text": [
      "C:\\Users\\28jis\\Anaconda3\\lib\\site-packages\\pandas\\core\\frame.py:3940: SettingWithCopyWarning: \n",
      "A value is trying to be set on a copy of a slice from a DataFrame\n",
      "\n",
      "See the caveats in the documentation: http://pandas.pydata.org/pandas-docs/stable/indexing.html#indexing-view-versus-copy\n",
      "  errors=errors)\n"
     ]
    },
    {
     "name": "stdout",
     "output_type": "stream",
     "text": [
      "['acceleration_x', 'acceleration_y', 'acceleration_z']\n"
     ]
    }
   ],
   "source": [
    "pd_columns=data[:]\n",
    "pd_columns.drop(['date'], axis=1, inplace=True)\n",
    "pd_columns.drop(['time'], axis=1, inplace=True)\n",
    "pd_columns.drop(['username'], axis=1, inplace=True)\n",
    "pd_columns.drop(['wrist'], axis=1, inplace=True)\n",
    "pd_columns.drop(['activity'], axis=1, inplace=True)\n",
    "pd_columns.drop(['gyro_x'], axis=1, inplace=True)\n",
    "pd_columns.drop(['gyro_y'], axis=1, inplace=True)\n",
    "pd_columns.drop(['gyro_z'], axis=1, inplace=True)\n",
    "\n",
    "\n",
    "prediction=pd_columns.columns\n",
    "print(list(prediction))"
   ]
  },
  {
   "cell_type": "code",
   "execution_count": 36,
   "metadata": {},
   "outputs": [
    {
     "name": "stdout",
     "output_type": "stream",
     "text": [
      "(62011, 11)\n",
      "(26577, 11)\n"
     ]
    }
   ],
   "source": [
    "trainset, testset=train_test_split(dataset,test_size=0.3)\n",
    "print(trainset.shape)\n",
    "print(testset.shape)"
   ]
  },
  {
   "cell_type": "code",
   "execution_count": 37,
   "metadata": {},
   "outputs": [
    {
     "name": "stdout",
     "output_type": "stream",
     "text": [
      "['date', 'time', 'username', 'wrist', 'activity', 'acceleration_x', 'acceleration_y', 'acceleration_z', 'gyro_x', 'gyro_y', 'gyro_z']\n"
     ]
    }
   ],
   "source": [
    "train_X=trainset[prediction]\n",
    "train_y=trainset['activity']\n",
    "print(list(trainset.columns))\n",
    "\n",
    "test_X=testset[prediction]\n",
    "test_y=testset['activity']"
   ]
  },
  {
   "cell_type": "code",
   "execution_count": 38,
   "metadata": {},
   "outputs": [
    {
     "name": "stdout",
     "output_type": "stream",
     "text": [
      "[[13267    94]\n",
      " [  996 12220]]\n",
      "0.9589870941039245\n",
      "Number of mislabled points out of a total 88588 point :26577\n",
      "0.9589870941039245\n"
     ]
    }
   ],
   "source": [
    "gnb=GaussianNB()\n",
    "y_pd_gnb= gnb.fit(train_X,train_y)\n",
    "target_pd=y_pd_gnb.predict(test_X)\n",
    "\n",
    "cnf_matrix_gnb= confusion_matrix(test_y,target_pd)\n",
    "print(cnf_matrix_gnb)\n",
    "print(metrics.accuracy_score(target_pd,test_y))\n",
    "print(\"Number of mislabled points out of a total %d point :%d\" \n",
    "     %(data.shape[0],(test_y !=y_pd_gnb).sum()))\n",
    "print(metrics.accuracy_score(test_y,target_pd))"
   ]
  },
  {
   "cell_type": "code",
   "execution_count": 39,
   "metadata": {},
   "outputs": [
    {
     "name": "stdout",
     "output_type": "stream",
     "text": [
      "              precision    recall  f1-score   support\n",
      "\n",
      "           0       0.93      0.99      0.96     13361\n",
      "           1       0.99      0.92      0.96     13216\n",
      "\n",
      "   micro avg       0.96      0.96      0.96     26577\n",
      "   macro avg       0.96      0.96      0.96     26577\n",
      "weighted avg       0.96      0.96      0.96     26577\n",
      "\n"
     ]
    }
   ],
   "source": [
    "print(classification_report(test_y,target_pd))"
   ]
  },
  {
   "cell_type": "code",
   "execution_count": 40,
   "metadata": {},
   "outputs": [
    {
     "name": "stderr",
     "output_type": "stream",
     "text": [
      "C:\\Users\\28jis\\Anaconda3\\lib\\site-packages\\pandas\\core\\frame.py:3940: SettingWithCopyWarning: \n",
      "A value is trying to be set on a copy of a slice from a DataFrame\n",
      "\n",
      "See the caveats in the documentation: http://pandas.pydata.org/pandas-docs/stable/indexing.html#indexing-view-versus-copy\n",
      "  errors=errors)\n"
     ]
    },
    {
     "name": "stdout",
     "output_type": "stream",
     "text": [
      "['gyro_x', 'gyro_y', 'gyro_z']\n"
     ]
    }
   ],
   "source": [
    "pd_columns=data[:]\n",
    "pd_columns.drop(['date'], axis=1, inplace=True)\n",
    "pd_columns.drop(['time'], axis=1, inplace=True)\n",
    "pd_columns.drop(['username'], axis=1, inplace=True)\n",
    "pd_columns.drop(['wrist'], axis=1, inplace=True)\n",
    "pd_columns.drop(['activity'], axis=1, inplace=True)\n",
    "pd_columns.drop(['acceleration_x'], axis=1, inplace=True)\n",
    "pd_columns.drop(['acceleration_y'], axis=1, inplace=True)\n",
    "pd_columns.drop(['acceleration_z'], axis=1, inplace=True)\n",
    "\n",
    "\n",
    "predictionr=pd_columns.columns\n",
    "print(list(predictionr))"
   ]
  },
  {
   "cell_type": "code",
   "execution_count": 41,
   "metadata": {},
   "outputs": [
    {
     "name": "stdout",
     "output_type": "stream",
     "text": [
      "(62011, 11)\n",
      "(26577, 11)\n"
     ]
    }
   ],
   "source": [
    "trainset, testset=train_test_split(dataset,test_size=0.3)\n",
    "print(trainset.shape)\n",
    "print(testset.shape)"
   ]
  },
  {
   "cell_type": "code",
   "execution_count": 42,
   "metadata": {},
   "outputs": [
    {
     "name": "stdout",
     "output_type": "stream",
     "text": [
      "['date', 'time', 'username', 'wrist', 'activity', 'acceleration_x', 'acceleration_y', 'acceleration_z', 'gyro_x', 'gyro_y', 'gyro_z']\n"
     ]
    }
   ],
   "source": [
    "train_X=trainset[predictionr]\n",
    "train_y=trainset['activity']\n",
    "print(list(trainset.columns))\n",
    "\n",
    "test_X=testset[predictionr]\n",
    "test_y=testset['activity']"
   ]
  },
  {
   "cell_type": "code",
   "execution_count": 43,
   "metadata": {},
   "outputs": [
    {
     "name": "stdout",
     "output_type": "stream",
     "text": [
      "[[9814 3494]\n",
      " [5931 7338]]\n",
      "0.645370056816044\n",
      "Number of mislabled points out of a total 88588 point :26577\n",
      "0.645370056816044\n"
     ]
    }
   ],
   "source": [
    "gnb=GaussianNB()\n",
    "y_pd_gnb= gnb.fit(train_X,train_y)\n",
    "target_pd=y_pd_gnb.predict(test_X)\n",
    "\n",
    "cnf_matrix_gnb= confusion_matrix(test_y,target_pd)\n",
    "print(cnf_matrix_gnb)\n",
    "print(metrics.accuracy_score(target_pd,test_y))\n",
    "print(\"Number of mislabled points out of a total %d point :%d\" \n",
    "     %(data.shape[0],(test_y !=y_pd_gnb).sum()))\n",
    "print(metrics.accuracy_score(test_y,target_pd))\n",
    "\n",
    "\n"
   ]
  },
  {
   "cell_type": "code",
   "execution_count": 44,
   "metadata": {},
   "outputs": [
    {
     "name": "stdout",
     "output_type": "stream",
     "text": [
      "              precision    recall  f1-score   support\n",
      "\n",
      "           0       0.62      0.74      0.68     13308\n",
      "           1       0.68      0.55      0.61     13269\n",
      "\n",
      "   micro avg       0.65      0.65      0.65     26577\n",
      "   macro avg       0.65      0.65      0.64     26577\n",
      "weighted avg       0.65      0.65      0.64     26577\n",
      "\n"
     ]
    }
   ],
   "source": [
    "print(classification_report(test_y,target_pd))"
   ]
  },
  {
   "cell_type": "code",
   "execution_count": null,
   "metadata": {},
   "outputs": [],
   "source": [
    "#PART2"
   ]
  },
  {
   "cell_type": "code",
   "execution_count": null,
   "metadata": {},
   "outputs": [],
   "source": []
  }
 ],
 "metadata": {
  "kernelspec": {
   "display_name": "Python 3",
   "language": "python",
   "name": "python3"
  },
  "language_info": {
   "codemirror_mode": {
    "name": "ipython",
    "version": 3
   },
   "file_extension": ".py",
   "mimetype": "text/x-python",
   "name": "python",
   "nbconvert_exporter": "python",
   "pygments_lexer": "ipython3",
   "version": "3.7.3"
  }
 },
 "nbformat": 4,
 "nbformat_minor": 2
}
